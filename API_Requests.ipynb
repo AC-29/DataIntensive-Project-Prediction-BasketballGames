{
 "cells": [
  {
   "cell_type": "code",
   "execution_count": 1,
   "metadata": {},
   "outputs": [],
   "source": [
    "import requests\n",
    "import numpy \n",
    "import json"
   ]
  },
  {
   "cell_type": "code",
   "execution_count": 2,
   "metadata": {},
   "outputs": [
    {
     "name": "stdout",
     "output_type": "stream",
     "text": [
      "200\n"
     ]
    }
   ],
   "source": [
    "parameters = {\n",
    "    \"per_page\": 100,\n",
    "    \"page\": 0,\n",
    "}\n",
    "session = requests.Session()\n",
    "data = session.get(\"https://www.balldontlie.io/api/v1/games\", params=parameters)\n",
    "print(data.status_code)"
   ]
  },
  {
   "cell_type": "code",
   "execution_count": 4,
   "metadata": {},
   "outputs": [
    {
     "name": "stdout",
     "output_type": "stream",
     "text": [
      "{'total_pages': 487, 'current_page': 1, 'next_page': 2, 'per_page': 100, 'total_count': 48668}\n"
     ]
    },
    {
     "data": {
      "text/plain": [
       "487"
      ]
     },
     "execution_count": 4,
     "metadata": {},
     "output_type": "execute_result"
    }
   ],
   "source": [
    "# print(data.json())\n",
    "json_file = data.json()\n",
    "print(json_file['meta'])\n",
    "json_file['meta']['total_pages']"
   ]
  },
  {
   "cell_type": "code",
   "execution_count": null,
   "metadata": {},
   "outputs": [],
   "source": [
    "data_list = []\n",
    "for i in range(1,487):\n",
    "    print(i)\n",
    "    parameters = {\n",
    "        \"per_page\": 100,\n",
    "        \"page\": i,\n",
    "    }\n",
    "    aux = session.get(\"https://www.balldontlie.io/api/v1/games\", params=parameters)\n",
    "    assert aux.status_code == 200, \"Status code is \" + str(aux.status_code)\n",
    "    data_list.append(aux.json())"
   ]
  },
  {
   "cell_type": "code",
   "execution_count": 67,
   "metadata": {},
   "outputs": [],
   "source": [
    "with open('data.json', 'w') as f:\n",
    "    json.dump(data_list, f)"
   ]
  },
  {
   "cell_type": "code",
   "execution_count": null,
   "metadata": {},
   "outputs": [],
   "source": []
  }
 ],
 "metadata": {
  "kernelspec": {
   "display_name": "Python 3",
   "language": "python",
   "name": "python3"
  },
  "language_info": {
   "codemirror_mode": {
    "name": "ipython",
    "version": 3
   },
   "file_extension": ".py",
   "mimetype": "text/x-python",
   "name": "python",
   "nbconvert_exporter": "python",
   "pygments_lexer": "ipython3",
   "version": "3.8.3"
  }
 },
 "nbformat": 4,
 "nbformat_minor": 4
}
