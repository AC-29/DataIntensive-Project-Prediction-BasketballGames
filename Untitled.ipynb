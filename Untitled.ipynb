{
 "cells": [
  {
   "cell_type": "code",
   "execution_count": 1,
   "metadata": {},
   "outputs": [
    {
     "data": {
      "text/plain": [
       "spark = org.apache.spark.sql.SparkSession@718ba5c\n"
      ]
     },
     "metadata": {},
     "output_type": "display_data"
    },
    {
     "data": {
      "text/plain": [
       "org.apache.spark.sql.SparkSession@718ba5c"
      ]
     },
     "execution_count": 1,
     "metadata": {},
     "output_type": "execute_result"
    }
   ],
   "source": [
    "import org.apache.spark.sql.{DataFrame, Dataset, Row, SparkSession}\n",
    "import org.apache.spark.sql.functions._\n",
    "val spark = SparkSession.builder.master(\"local[*]\").appName(\"dataProcessing\").getOrCreate()\n",
    "import spark.implicits._"
   ]
  },
  {
   "cell_type": "code",
   "execution_count": 2,
   "metadata": {},
   "outputs": [
    {
     "ename": "Compile Error",
     "evalue": "<console>:1: error: ';' expected but '.' found.\nfrom py4j.java_gateway import java_import\n         ^\n<console>:2: error: unclosed character literal\njava_import(spark._jvm, 'org.apache.hadoop.fs.Path')\n                                                  ^\n",
     "output_type": "error",
     "traceback": []
    }
   ],
   "source": [
    "from py4j.java_gateway import java_import\n",
    "java_import(spark._jvm, 'org.apache.hadoop.fs.Path')"
   ]
  },
  {
   "cell_type": "code",
   "execution_count": 3,
   "metadata": {},
   "outputs": [
    {
     "name": "stdout",
     "output_type": "stream",
     "text": [
      "root\n",
      " |-- data: array (nullable = true)\n",
      " |    |-- element: struct (containsNull = true)\n",
      " |    |    |-- ast: long (nullable = true)\n",
      " |    |    |-- blk: long (nullable = true)\n",
      " |    |    |-- dreb: long (nullable = true)\n",
      " |    |    |-- fg3_pct: double (nullable = true)\n",
      " |    |    |-- fg3a: long (nullable = true)\n",
      " |    |    |-- fg3m: long (nullable = true)\n",
      " |    |    |-- fg_pct: double (nullable = true)\n",
      " |    |    |-- fga: long (nullable = true)\n",
      " |    |    |-- fgm: long (nullable = true)\n",
      " |    |    |-- ft_pct: double (nullable = true)\n",
      " |    |    |-- fta: long (nullable = true)\n",
      " |    |    |-- ftm: long (nullable = true)\n",
      " |    |    |-- game: struct (nullable = true)\n",
      " |    |    |    |-- date: string (nullable = true)\n",
      " |    |    |    |-- home_team_id: long (nullable = true)\n",
      " |    |    |    |-- home_team_score: long (nullable = true)\n",
      " |    |    |    |-- id: long (nullable = true)\n",
      " |    |    |    |-- period: long (nullable = true)\n",
      " |    |    |    |-- postseason: boolean (nullable = true)\n",
      " |    |    |    |-- season: long (nullable = true)\n",
      " |    |    |    |-- status: string (nullable = true)\n",
      " |    |    |    |-- time: string (nullable = true)\n",
      " |    |    |    |-- visitor_team_id: long (nullable = true)\n",
      " |    |    |    |-- visitor_team_score: long (nullable = true)\n",
      " |    |    |-- id: long (nullable = true)\n",
      " |    |    |-- min: string (nullable = true)\n",
      " |    |    |-- oreb: long (nullable = true)\n",
      " |    |    |-- pf: long (nullable = true)\n",
      " |    |    |-- player: struct (nullable = true)\n",
      " |    |    |    |-- first_name: string (nullable = true)\n",
      " |    |    |    |-- height_feet: long (nullable = true)\n",
      " |    |    |    |-- height_inches: long (nullable = true)\n",
      " |    |    |    |-- id: long (nullable = true)\n",
      " |    |    |    |-- last_name: string (nullable = true)\n",
      " |    |    |    |-- position: string (nullable = true)\n",
      " |    |    |    |-- team_id: long (nullable = true)\n",
      " |    |    |    |-- weight_pounds: long (nullable = true)\n",
      " |    |    |-- pts: long (nullable = true)\n",
      " |    |    |-- reb: long (nullable = true)\n",
      " |    |    |-- stl: long (nullable = true)\n",
      " |    |    |-- team: struct (nullable = true)\n",
      " |    |    |    |-- abbreviation: string (nullable = true)\n",
      " |    |    |    |-- city: string (nullable = true)\n",
      " |    |    |    |-- conference: string (nullable = true)\n",
      " |    |    |    |-- division: string (nullable = true)\n",
      " |    |    |    |-- full_name: string (nullable = true)\n",
      " |    |    |    |-- id: long (nullable = true)\n",
      " |    |    |    |-- name: string (nullable = true)\n",
      " |    |    |-- turnover: long (nullable = true)\n",
      " |-- meta: struct (nullable = true)\n",
      " |    |-- current_page: long (nullable = true)\n",
      " |    |-- next_page: long (nullable = true)\n",
      " |    |-- per_page: long (nullable = true)\n",
      " |    |-- total_count: long (nullable = true)\n",
      " |    |-- total_pages: long (nullable = true)\n",
      "\n"
     ]
    },
    {
     "data": {
      "text/plain": [
       "df_stats = [data: array<struct<ast:bigint,blk:bigint,dreb:bigint,fg3_pct:double,fg3a:bigint,fg3m:bigint,fg_pct:double,fga:bigint,fgm:bigint,ft_pct:double,fta:bigint,ftm:bigint,game:struct<date:string,home_team_id:bigint,home_team_score:bigint,id:bigint,period:bigint,postseason:boolean,season:bigint,status:string,time:string,visitor_team_id:bigint,visitor_team_score:bigint>,id:bigint,min:string,oreb:bigint,pf:bigint,player:struct<first_name:string,height_feet:bigint,height_inches:bigint,id:bigint,last_name:string,position:string,team_id:bigint,weight_pounds:bigint>,pts:bigint,reb:bigint,stl:bigint,team:struct<abbreviation:string,city:string,conference:string,division:string,full_name:string,id:bigint,name:string>,turnover:bigint>>, meta: struct<current_pag...\n"
      ]
     },
     "metadata": {},
     "output_type": "display_data"
    },
    {
     "data": {
      "text/plain": [
       "[data: array<struct<ast:bigint,blk:bigint,dreb:bigint,fg3_pct:double,fg3a:bigint,fg3m:bigint,fg_pct:double,fga:bigint,fgm:bigint,ft_pct:double,fta:bigint,ftm:bigint,game:struct<date:string,home_team_id:bigint,home_team_score:bigint,id:bigint,period:bigint,postseason:boolean,season:bigint,status:string,time:string,visitor_team_id:bigint,visitor_team_score:bigint>,id:bigint,min:string,oreb:bigint,pf:bigint,player:struct<first_name:string,height_feet:bigint,height_inches:bigint,id:bigint,last_name:string,position:string,team_id:bigint,weight_pounds:bigint>,pts:bigint,reb:bigint,stl:bigint,team:struct<abbreviation:string,city:string,conference:string,division:string,full_name:string,id:bigint,name:string>,turnover:bigint>>, meta: struct<current_pag..."
      ]
     },
     "execution_count": 3,
     "metadata": {},
     "output_type": "execute_result"
    }
   ],
   "source": [
    "var df_stats = spark.read.json(\"data/stats_data.json\")\n",
    "df_stats.printSchema()"
   ]
  },
  {
   "cell_type": "code",
   "execution_count": 4,
   "metadata": {},
   "outputs": [
    {
     "name": "stdout",
     "output_type": "stream",
     "text": [
      "+--------------------+--------------------+\n",
      "|                data|                meta|\n",
      "+--------------------+--------------------+\n",
      "|[[Ike,,, 14, Anig...|[1, 2, 100, 3268,...|\n",
      "|[[Ike,,, 14, Anig...|[1, 2, 100, 3268,...|\n",
      "|[[Danny,,, 571, Y...|[2, 3, 100, 3268,...|\n",
      "|[[Larry,,, 671, J...|[3, 4, 100, 3268,...|\n",
      "|[[Alonzo,,, 771, ...|[4, 5, 100, 3268,...|\n",
      "|[[Skeeter,,, 871,...|[5, 6, 100, 3268,...|\n",
      "|[[Kevin,,, 971, G...|[6, 7, 100, 3268,...|\n",
      "|[[Jason,,, 1071, ...|[7, 8, 100, 3268,...|\n",
      "|[[Randell,,, 1171...|[8, 9, 100, 3268,...|\n",
      "|[[Derrick,,, 1271...|[9, 10, 100, 3268...|\n",
      "|[[Jason,,, 1372, ...|[10, 11, 100, 326...|\n",
      "|[[Luke,,, 1472, W...|[11, 12, 100, 326...|\n",
      "|[[Justin,,, 1572,...|[12, 13, 100, 326...|\n",
      "|[[Robert,,, 1673,...|[13, 14, 100, 326...|\n",
      "|[[Spencer,,, 1775...|[14, 15, 100, 326...|\n",
      "|[[Derrick,,, 1875...|[15, 16, 100, 326...|\n",
      "|[[Diamon,,, 1977,...|[16, 17, 100, 326...|\n",
      "|[[Cory,,, 2083, J...|[17, 18, 100, 326...|\n",
      "|[[Dakari,,, 2199,...|[18, 19, 100, 326...|\n",
      "|[[Lionel,,, 2311,...|[19, 20, 100, 326...|\n",
      "+--------------------+--------------------+\n",
      "only showing top 20 rows\n",
      "\n",
      "root\n",
      " |-- data: array (nullable = true)\n",
      " |    |-- element: struct (containsNull = true)\n",
      " |    |    |-- first_name: string (nullable = true)\n",
      " |    |    |-- height_feet: long (nullable = true)\n",
      " |    |    |-- height_inches: long (nullable = true)\n",
      " |    |    |-- id: long (nullable = true)\n",
      " |    |    |-- last_name: string (nullable = true)\n",
      " |    |    |-- position: string (nullable = true)\n",
      " |    |    |-- team: struct (nullable = true)\n",
      " |    |    |    |-- abbreviation: string (nullable = true)\n",
      " |    |    |    |-- city: string (nullable = true)\n",
      " |    |    |    |-- conference: string (nullable = true)\n",
      " |    |    |    |-- division: string (nullable = true)\n",
      " |    |    |    |-- full_name: string (nullable = true)\n",
      " |    |    |    |-- id: long (nullable = true)\n",
      " |    |    |    |-- name: string (nullable = true)\n",
      " |    |    |-- weight_pounds: long (nullable = true)\n",
      " |-- meta: struct (nullable = true)\n",
      " |    |-- current_page: long (nullable = true)\n",
      " |    |-- next_page: long (nullable = true)\n",
      " |    |-- per_page: long (nullable = true)\n",
      " |    |-- total_count: long (nullable = true)\n",
      " |    |-- total_pages: long (nullable = true)\n",
      "\n"
     ]
    },
    {
     "data": {
      "text/plain": [
       "df = [data: array<struct<first_name:string,height_feet:bigint,height_inches:bigint,id:bigint,last_name:string,position:string,team:struct<abbreviation:string,city:string,conference:string,division:string,full_name:string,id:bigint,name:string>,weight_pounds:bigint>>, meta: struct<current_page: bigint, next_page: bigint ... 3 more fields>]\n"
      ]
     },
     "metadata": {},
     "output_type": "display_data"
    },
    {
     "data": {
      "text/plain": [
       "[data: array<struct<first_name:string,height_feet:bigint,height_inches:bigint,id:bigint,last_name:string,position:string,team:struct<abbreviation:string,city:string,conference:string,division:string,full_name:string,id:bigint,name:string>,weight_pounds:bigint>>, meta: struct<current_page: bigint, next_page: bigint ... 3 more fields>]"
      ]
     },
     "execution_count": 4,
     "metadata": {},
     "output_type": "execute_result"
    }
   ],
   "source": [
    "val df = spark.read.json(\"data/players_data.json\")\n",
    "//Read the players JSON file\n",
    "df.show()\n",
    "df.printSchema()"
   ]
  },
  {
   "cell_type": "code",
   "execution_count": 5,
   "metadata": {},
   "outputs": [
    {
     "name": "stdout",
     "output_type": "stream",
     "text": [
      "+--------------------+\n",
      "|           data_flat|\n",
      "+--------------------+\n",
      "|[Ike,,, 14, Anigb...|\n",
      "|[Ron,,, 25, Baker...|\n",
      "|[Jabari,,, 47, Bi...|\n",
      "|[MarShon,,, 67, B...|\n",
      "|[Lorenzo,,, 71, B...|\n",
      "|[Omri,,, 90, Cass...|\n",
      "|[Alex, 6, 6, 1, A...|\n",
      "|[Tyler,,, 119, Da...|\n",
      "|[Keenan,,, 149, E...|\n",
      "|[Marcin,,, 179, G...|\n",
      "|[Andrew,,, 1593, ...|\n",
      "|[Amir, 6, 9, 241,...|\n",
      "|[George, 6, 6, 25...|\n",
      "|[Zach,,, 281, Lof...|\n",
      "|[Kosta, 7, 0, 263...|\n",
      "|[James,,, 348, Nu...|\n",
      "|[Billy,,, 382, Pr...|\n",
      "|[Zhou,,, 384, Qi,...|\n",
      "|[Zach,,, 388, Ran...|\n",
      "|[Malachi,,, 392, ...|\n",
      "+--------------------+\n",
      "only showing top 20 rows\n",
      "\n"
     ]
    },
    {
     "data": {
      "text/plain": [
       "elem = [data_flat: struct<first_name: string, height_feet: bigint ... 6 more fields>]\n"
      ]
     },
     "metadata": {},
     "output_type": "display_data"
    },
    {
     "data": {
      "text/plain": [
       "[data_flat: struct<first_name: string, height_feet: bigint ... 6 more fields>]"
      ]
     },
     "execution_count": 5,
     "metadata": {},
     "output_type": "execute_result"
    }
   ],
   "source": [
    "var elem = df.select(explode($\"data\").as(\"data_flat\"))\n",
    "elem.show()"
   ]
  },
  {
   "cell_type": "code",
   "execution_count": 6,
   "metadata": {},
   "outputs": [
    {
     "name": "stdout",
     "output_type": "stream",
     "text": [
      "+--------------------+\n",
      "|           data_flat|\n",
      "+--------------------+\n",
      "|[Ike,,, 14, Anigb...|\n",
      "|[Ron,,, 25, Baker...|\n",
      "|[Jabari,,, 47, Bi...|\n",
      "|[MarShon,,, 67, B...|\n",
      "|[Lorenzo,,, 71, B...|\n",
      "|[Omri,,, 90, Cass...|\n",
      "|[Alex, 6, 6, 1, A...|\n",
      "|[Tyler,,, 119, Da...|\n",
      "|[Keenan,,, 149, E...|\n",
      "|[Marcin,,, 179, G...|\n",
      "|[Andrew,,, 1593, ...|\n",
      "|[Amir, 6, 9, 241,...|\n",
      "|[George, 6, 6, 25...|\n",
      "|[Zach,,, 281, Lof...|\n",
      "|[Kosta, 7, 0, 263...|\n",
      "|[James,,, 348, Nu...|\n",
      "|[Billy,,, 382, Pr...|\n",
      "|[Zhou,,, 384, Qi,...|\n",
      "|[Zach,,, 388, Ran...|\n",
      "|[Malachi,,, 392, ...|\n",
      "+--------------------+\n",
      "only showing top 20 rows\n",
      "\n",
      "+----+\n",
      "|  id|\n",
      "+----+\n",
      "|  14|\n",
      "|  25|\n",
      "|  47|\n",
      "|  67|\n",
      "|  71|\n",
      "|  90|\n",
      "|   1|\n",
      "| 119|\n",
      "| 149|\n",
      "| 179|\n",
      "|1593|\n",
      "| 241|\n",
      "| 256|\n",
      "| 281|\n",
      "| 263|\n",
      "| 348|\n",
      "| 382|\n",
      "| 384|\n",
      "| 388|\n",
      "| 392|\n",
      "+----+\n",
      "only showing top 20 rows\n",
      "\n"
     ]
    },
    {
     "data": {
      "text/plain": [
       "elem = [data_flat: struct<first_name: string, height_feet: bigint ... 6 more fields>]\n",
       "players_id = [id: bigint]\n"
      ]
     },
     "metadata": {},
     "output_type": "display_data"
    },
    {
     "data": {
      "text/plain": [
       "[id: bigint]"
      ]
     },
     "execution_count": 6,
     "metadata": {},
     "output_type": "execute_result"
    }
   ],
   "source": [
    "// Flattening\n",
    "\n",
    "var elem = df.select(explode($\"data\").as(\"data_flat\"))\n",
    "elem.show()\n",
    "val players_id = elem.select(\"data_flat.id\")\n",
    "players_id.show()"
   ]
  },
  {
   "cell_type": "code",
   "execution_count": 7,
   "metadata": {},
   "outputs": [
    {
     "name": "stdout",
     "output_type": "stream",
     "text": [
      "+----------+---------+\n",
      "|first_name|last_name|\n",
      "+----------+---------+\n",
      "|    LeBron|    James|\n",
      "+----------+---------+\n",
      "\n"
     ]
    }
   ],
   "source": [
    "elem.select(elem(\"data_flat.first_name\"), elem(\"data_flat.last_name\")).filter(elem(\"data_flat.id\")===237).show()\n"
   ]
  },
  {
   "cell_type": "code",
   "execution_count": 8,
   "metadata": {},
   "outputs": [
    {
     "name": "stdout",
     "output_type": "stream",
     "text": [
      "+---+\n",
      "| id|\n",
      "+---+\n",
      "|415|\n",
      "| 49|\n",
      "| 91|\n",
      "|210|\n",
      "|161|\n",
      "| 53|\n",
      "|157|\n",
      "| 24|\n",
      "|235|\n",
      "|174|\n",
      "|299|\n",
      "|309|\n",
      "|263|\n",
      "| 33|\n",
      "|482|\n",
      "| 48|\n",
      "|267|\n",
      "|465|\n",
      "|207|\n",
      "| 62|\n",
      "+---+\n",
      "only showing top 20 rows\n",
      "\n"
     ]
    },
    {
     "data": {
      "text/plain": [
       "flat_stats = [flat_stats: struct<ast: bigint, blk: bigint ... 21 more fields>]\n",
       "stats_season = [season: bigint]\n",
       "stats_player_id = [id: bigint]\n"
      ]
     },
     "metadata": {},
     "output_type": "display_data"
    },
    {
     "data": {
      "text/plain": [
       "[id: bigint]"
      ]
     },
     "execution_count": 8,
     "metadata": {},
     "output_type": "execute_result"
    }
   ],
   "source": [
    "var flat_stats = df_stats.select(explode($\"data\").as(\"flat_stats\"))\n",
    "val stats_season = flat_stats.select(\"flat_stats.game.season\")\n",
    "val stats_player_id = flat_stats.select(\"flat_stats.player.id\")\n",
    "stats_player_id.show()"
   ]
  },
  {
   "cell_type": "code",
   "execution_count": 9,
   "metadata": {},
   "outputs": [
    {
     "name": "stdout",
     "output_type": "stream",
     "text": [
      "root\n",
      " |-- flat_stats: struct (nullable = true)\n",
      " |    |-- ast: long (nullable = true)\n",
      " |    |-- blk: long (nullable = true)\n",
      " |    |-- dreb: long (nullable = true)\n",
      " |    |-- fg3_pct: double (nullable = true)\n",
      " |    |-- fg3a: long (nullable = true)\n",
      " |    |-- fg3m: long (nullable = true)\n",
      " |    |-- fg_pct: double (nullable = true)\n",
      " |    |-- fga: long (nullable = true)\n",
      " |    |-- fgm: long (nullable = true)\n",
      " |    |-- ft_pct: double (nullable = true)\n",
      " |    |-- fta: long (nullable = true)\n",
      " |    |-- ftm: long (nullable = true)\n",
      " |    |-- game: struct (nullable = true)\n",
      " |    |    |-- date: string (nullable = true)\n",
      " |    |    |-- home_team_id: long (nullable = true)\n",
      " |    |    |-- home_team_score: long (nullable = true)\n",
      " |    |    |-- id: long (nullable = true)\n",
      " |    |    |-- period: long (nullable = true)\n",
      " |    |    |-- postseason: boolean (nullable = true)\n",
      " |    |    |-- season: long (nullable = true)\n",
      " |    |    |-- status: string (nullable = true)\n",
      " |    |    |-- time: string (nullable = true)\n",
      " |    |    |-- visitor_team_id: long (nullable = true)\n",
      " |    |    |-- visitor_team_score: long (nullable = true)\n",
      " |    |-- id: long (nullable = true)\n",
      " |    |-- min: string (nullable = true)\n",
      " |    |-- oreb: long (nullable = true)\n",
      " |    |-- pf: long (nullable = true)\n",
      " |    |-- player: struct (nullable = true)\n",
      " |    |    |-- first_name: string (nullable = true)\n",
      " |    |    |-- height_feet: long (nullable = true)\n",
      " |    |    |-- height_inches: long (nullable = true)\n",
      " |    |    |-- id: long (nullable = true)\n",
      " |    |    |-- last_name: string (nullable = true)\n",
      " |    |    |-- position: string (nullable = true)\n",
      " |    |    |-- team_id: long (nullable = true)\n",
      " |    |    |-- weight_pounds: long (nullable = true)\n",
      " |    |-- pts: long (nullable = true)\n",
      " |    |-- reb: long (nullable = true)\n",
      " |    |-- stl: long (nullable = true)\n",
      " |    |-- team: struct (nullable = true)\n",
      " |    |    |-- abbreviation: string (nullable = true)\n",
      " |    |    |-- city: string (nullable = true)\n",
      " |    |    |-- conference: string (nullable = true)\n",
      " |    |    |-- division: string (nullable = true)\n",
      " |    |    |-- full_name: string (nullable = true)\n",
      " |    |    |-- id: long (nullable = true)\n",
      " |    |    |-- name: string (nullable = true)\n",
      " |    |-- turnover: long (nullable = true)\n",
      "\n"
     ]
    }
   ],
   "source": [
    "flat_stats.printSchema()"
   ]
  },
  {
   "cell_type": "code",
   "execution_count": 10,
   "metadata": {},
   "outputs": [
    {
     "ename": "org.apache.spark.sql.AnalysisException",
     "evalue": "path file:/home/adrian/Desktop/DataIntensive-Project-Prediction-BasketballGames/test/123 already exists.;",
     "output_type": "error",
     "traceback": [
      "org.apache.spark.sql.AnalysisException: path file:/home/adrian/Desktop/DataIntensive-Project-Prediction-BasketballGames/test/123 already exists.;",
      "  at org.apache.spark.sql.execution.datasources.InsertIntoHadoopFsRelationCommand.run(InsertIntoHadoopFsRelationCommand.scala:114)",
      "  at org.apache.spark.sql.execution.command.DataWritingCommandExec.sideEffectResult$lzycompute(commands.scala:104)",
      "  at org.apache.spark.sql.execution.command.DataWritingCommandExec.sideEffectResult(commands.scala:102)",
      "  at org.apache.spark.sql.execution.command.DataWritingCommandExec.doExecute(commands.scala:122)",
      "  at org.apache.spark.sql.execution.SparkPlan$$anonfun$execute$1.apply(SparkPlan.scala:131)",
      "  at org.apache.spark.sql.execution.SparkPlan$$anonfun$execute$1.apply(SparkPlan.scala:127)",
      "  at org.apache.spark.sql.execution.SparkPlan$$anonfun$executeQuery$1.apply(SparkPlan.scala:155)",
      "  at org.apache.spark.rdd.RDDOperationScope$.withScope(RDDOperationScope.scala:151)",
      "  at org.apache.spark.sql.execution.SparkPlan.executeQuery(SparkPlan.scala:152)",
      "  at org.apache.spark.sql.execution.SparkPlan.execute(SparkPlan.scala:127)",
      "  at org.apache.spark.sql.execution.QueryExecution.toRdd$lzycompute(QueryExecution.scala:80)",
      "  at org.apache.spark.sql.execution.QueryExecution.toRdd(QueryExecution.scala:80)",
      "  at org.apache.spark.sql.DataFrameWriter$$anonfun$runCommand$1.apply(DataFrameWriter.scala:676)",
      "  at org.apache.spark.sql.DataFrameWriter$$anonfun$runCommand$1.apply(DataFrameWriter.scala:676)",
      "  at org.apache.spark.sql.execution.SQLExecution$$anonfun$withNewExecutionId$1.apply(SQLExecution.scala:78)",
      "  at org.apache.spark.sql.execution.SQLExecution$.withSQLConfPropagated(SQLExecution.scala:125)",
      "  at org.apache.spark.sql.execution.SQLExecution$.withNewExecutionId(SQLExecution.scala:73)",
      "  at org.apache.spark.sql.DataFrameWriter.runCommand(DataFrameWriter.scala:676)",
      "  at org.apache.spark.sql.DataFrameWriter.saveToV1Source(DataFrameWriter.scala:285)",
      "  at org.apache.spark.sql.DataFrameWriter.save(DataFrameWriter.scala:271)",
      "  at org.apache.spark.sql.DataFrameWriter.save(DataFrameWriter.scala:229)",
      "  ... 46 elided"
     ]
    }
   ],
   "source": [
    "var data = List.empty[(Int, Int)]\n",
    "data = (10, 3) :: data\n",
    "data = (10, 4) :: data\n",
    "data = (10, 6) :: data\n",
    "data = (1, 2) :: data\n",
    "var lista = sc.parallelize(data).toDF()\n",
    "val newNames = Seq(\"Team_id\", \"Player_id\")\n",
    "lista = lista.toDF(newNames: _*)\n",
    "var name = \"test/123\"\n",
    "lista.coalesce(1).write.format(\"json\").save(name)"
   ]
  },
  {
   "cell_type": "code",
   "execution_count": 11,
   "metadata": {},
   "outputs": [
    {
     "data": {
      "text/plain": [
       "lastException: Throwable = null\n",
       "writeRoster: (data: List[(Int, Int)], season: Int)Unit\n"
      ]
     },
     "metadata": {},
     "output_type": "display_data"
    }
   ],
   "source": [
    "def writeRoster(data: List[(Int, Int)], season: Int){\n",
    "    var team = data(0)._1\n",
    "    var data_aux = List.empty[(Int, Int)]\n",
    "    for (tuple <- data) {\n",
    "        if (tuple._1 == team) {\n",
    "            data_aux = tuple :: data_aux\n",
    "        }\n",
    "        else {\n",
    "            var json_name = data_aux(0)._1\n",
    "            var lista = sc.parallelize(data_aux).toDF()\n",
    "            val newNames = Seq(\"Team_id\", \"Player_id\")\n",
    "            lista = lista.toDF(newNames: _*)\n",
    "            var name = \"roster/\"+ season + \"/\" + json_name\n",
    "            lista.write.mode(\"append\").format(\"json\").save(name)\n",
    "            data_aux = List.empty[(Int, Int)]\n",
    "            data_aux = tuple :: data_aux\n",
    "            team = tuple._1\n",
    "        }\n",
    "    }\n",
    "\n",
    "    var json_name = data_aux(0)._1\n",
    "    var lista = sc.parallelize(data_aux).toDF()\n",
    "    val newNames = Seq(\"Team_id\", \"Player_id\")\n",
    "    lista = lista.toDF(newNames: _*)\n",
    "    var name = \"roster/\"+ season + \"/\" + json_name\n",
    "    lista.write.mode(\"append\").format(\"json\").save(name)\n",
    "}"
   ]
  },
  {
   "cell_type": "code",
   "execution_count": null,
   "metadata": {},
   "outputs": [
    {
     "name": "stdout",
     "output_type": "stream",
     "text": [
      "Team ID is: 1\n",
      "1\n",
      "Team ID is: 16\n",
      "2\n"
     ]
    }
   ],
   "source": [
    "var season = Array(2002, 2003, 2004, 2005, 2006, 2007, 2008, 2009, 2010, 2011, 2012, 2013, 2014, 2015)\n",
    "for(x <- season) {\n",
    "    val player_distinct = flat_stats.select(\"flat_stats.player.id\").filter($\"flat_stats.game.season\" === x).distinct().collect()\n",
    "    var cnt = 0\n",
    "    for(y <- player_distinct){\n",
    "        var data = List.empty[(Int, Int)]\n",
    "        val player_games = flat_stats.select($\"flat_stats.team.id\").filter($\"flat_stats.player.id\" === y(0) && $\"flat_stats.game.season\" === x)\n",
    "        val rows = player_games.rdd\n",
    "        val player_teams = rows.map(p => (p, 1))\n",
    "        val player_teams_reduced = player_teams.reduceByKey(_ + _).takeOrdered(1)(Ordering[Int].reverse.on(_._2))\n",
    "        val aux_player = Integer.parseInt(y(0) + \"\")\n",
    "        val aux_team = Integer.parseInt(player_teams_reduced(0)._1(0) + \"\")\n",
    "        println(\"Team ID is: \" + aux_team)\n",
    "        data = (aux_team, aux_player) :: data\n",
    "        cnt += 1\n",
    "        println(cnt)\n",
    "        writeRoster(data, x)\n",
    "        \n",
    "    }\n",
    "\n",
    "    println(\"Season: \" + x + \" recorded.\")\n",
    "}\n",
    "println(\"All seasons recorded.\")"
   ]
  },
  {
   "cell_type": "code",
   "execution_count": null,
   "metadata": {},
   "outputs": [],
   "source": []
  },
  {
   "cell_type": "code",
   "execution_count": null,
   "metadata": {},
   "outputs": [],
   "source": []
  }
 ],
 "metadata": {
  "kernelspec": {
   "display_name": "Apache Toree - Scala",
   "language": "scala",
   "name": "apache_toree_scala"
  },
  "language_info": {
   "codemirror_mode": "text/x-scala",
   "file_extension": ".scala",
   "mimetype": "text/x-scala",
   "name": "scala",
   "pygments_lexer": "scala",
   "version": "2.11.12"
  }
 },
 "nbformat": 4,
 "nbformat_minor": 4
}
