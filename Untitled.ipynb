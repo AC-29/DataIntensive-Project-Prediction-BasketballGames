{
 "cells": [
  {
   "cell_type": "code",
   "execution_count": 90,
   "metadata": {},
   "outputs": [
    {
     "data": {
      "text/plain": [
       "spark = org.apache.spark.sql.SparkSession@5a49799\n"
      ]
     },
     "metadata": {},
     "output_type": "display_data"
    },
    {
     "data": {
      "text/plain": [
       "org.apache.spark.sql.SparkSession@5a49799"
      ]
     },
     "execution_count": 90,
     "metadata": {},
     "output_type": "execute_result"
    }
   ],
   "source": [
    "import org.apache.spark.sql.{DataFrame, Dataset, Row, SparkSession}\n",
    "import org.apache.spark.sql.functions._\n",
    "val spark = SparkSession.builder.master(\"local[*]\").appName(\"dataProcessing\").getOrCreate()\n",
    "import spark.implicits._"
   ]
  },
  {
   "cell_type": "code",
   "execution_count": 107,
   "metadata": {},
   "outputs": [
    {
     "name": "stdout",
     "output_type": "stream",
     "text": [
      "root\n",
      " |-- data: array (nullable = true)\n",
      " |    |-- element: struct (containsNull = true)\n",
      " |    |    |-- ast: long (nullable = true)\n",
      " |    |    |-- blk: long (nullable = true)\n",
      " |    |    |-- dreb: long (nullable = true)\n",
      " |    |    |-- fg3_pct: double (nullable = true)\n",
      " |    |    |-- fg3a: long (nullable = true)\n",
      " |    |    |-- fg3m: long (nullable = true)\n",
      " |    |    |-- fg_pct: double (nullable = true)\n",
      " |    |    |-- fga: long (nullable = true)\n",
      " |    |    |-- fgm: long (nullable = true)\n",
      " |    |    |-- ft_pct: double (nullable = true)\n",
      " |    |    |-- fta: long (nullable = true)\n",
      " |    |    |-- ftm: long (nullable = true)\n",
      " |    |    |-- game: struct (nullable = true)\n",
      " |    |    |    |-- date: string (nullable = true)\n",
      " |    |    |    |-- home_team_id: long (nullable = true)\n",
      " |    |    |    |-- home_team_score: long (nullable = true)\n",
      " |    |    |    |-- id: long (nullable = true)\n",
      " |    |    |    |-- period: long (nullable = true)\n",
      " |    |    |    |-- postseason: boolean (nullable = true)\n",
      " |    |    |    |-- season: long (nullable = true)\n",
      " |    |    |    |-- status: string (nullable = true)\n",
      " |    |    |    |-- time: string (nullable = true)\n",
      " |    |    |    |-- visitor_team_id: long (nullable = true)\n",
      " |    |    |    |-- visitor_team_score: long (nullable = true)\n",
      " |    |    |-- id: long (nullable = true)\n",
      " |    |    |-- min: string (nullable = true)\n",
      " |    |    |-- oreb: long (nullable = true)\n",
      " |    |    |-- pf: long (nullable = true)\n",
      " |    |    |-- player: struct (nullable = true)\n",
      " |    |    |    |-- first_name: string (nullable = true)\n",
      " |    |    |    |-- height_feet: long (nullable = true)\n",
      " |    |    |    |-- height_inches: long (nullable = true)\n",
      " |    |    |    |-- id: long (nullable = true)\n",
      " |    |    |    |-- last_name: string (nullable = true)\n",
      " |    |    |    |-- position: string (nullable = true)\n",
      " |    |    |    |-- team_id: long (nullable = true)\n",
      " |    |    |    |-- weight_pounds: long (nullable = true)\n",
      " |    |    |-- pts: long (nullable = true)\n",
      " |    |    |-- reb: long (nullable = true)\n",
      " |    |    |-- stl: long (nullable = true)\n",
      " |    |    |-- team: struct (nullable = true)\n",
      " |    |    |    |-- abbreviation: string (nullable = true)\n",
      " |    |    |    |-- city: string (nullable = true)\n",
      " |    |    |    |-- conference: string (nullable = true)\n",
      " |    |    |    |-- division: string (nullable = true)\n",
      " |    |    |    |-- full_name: string (nullable = true)\n",
      " |    |    |    |-- id: long (nullable = true)\n",
      " |    |    |    |-- name: string (nullable = true)\n",
      " |    |    |-- turnover: long (nullable = true)\n",
      " |-- meta: struct (nullable = true)\n",
      " |    |-- current_page: long (nullable = true)\n",
      " |    |-- next_page: long (nullable = true)\n",
      " |    |-- per_page: long (nullable = true)\n",
      " |    |-- total_count: long (nullable = true)\n",
      " |    |-- total_pages: long (nullable = true)\n",
      "\n"
     ]
    },
    {
     "data": {
      "text/plain": [
       "df_stats = [data: array<struct<ast:bigint,blk:bigint,dreb:bigint,fg3_pct:double,fg3a:bigint,fg3m:bigint,fg_pct:double,fga:bigint,fgm:bigint,ft_pct:double,fta:bigint,ftm:bigint,game:struct<date:string,home_team_id:bigint,home_team_score:bigint,id:bigint,period:bigint,postseason:boolean,season:bigint,status:string,time:string,visitor_team_id:bigint,visitor_team_score:bigint>,id:bigint,min:string,oreb:bigint,pf:bigint,player:struct<first_name:string,height_feet:bigint,height_inches:bigint,id:bigint,last_name:string,position:string,team_id:bigint,weight_pounds:bigint>,pts:bigint,reb:bigint,stl:bigint,team:struct<abbreviation:string,city:string,conference:string,division:string,full_name:string,id:bigint,name:string>,turnover:bigint>>, meta: struct<current_pag...\n"
      ]
     },
     "metadata": {},
     "output_type": "display_data"
    },
    {
     "data": {
      "text/plain": [
       "[data: array<struct<ast:bigint,blk:bigint,dreb:bigint,fg3_pct:double,fg3a:bigint,fg3m:bigint,fg_pct:double,fga:bigint,fgm:bigint,ft_pct:double,fta:bigint,ftm:bigint,game:struct<date:string,home_team_id:bigint,home_team_score:bigint,id:bigint,period:bigint,postseason:boolean,season:bigint,status:string,time:string,visitor_team_id:bigint,visitor_team_score:bigint>,id:bigint,min:string,oreb:bigint,pf:bigint,player:struct<first_name:string,height_feet:bigint,height_inches:bigint,id:bigint,last_name:string,position:string,team_id:bigint,weight_pounds:bigint>,pts:bigint,reb:bigint,stl:bigint,team:struct<abbreviation:string,city:string,conference:string,division:string,full_name:string,id:bigint,name:string>,turnover:bigint>>, meta: struct<current_pag..."
      ]
     },
     "execution_count": 107,
     "metadata": {},
     "output_type": "execute_result"
    }
   ],
   "source": [
    "var df_stats = spark.read.json(\"data/stats_data.json\")\n",
    "df_stats.printSchema()"
   ]
  },
  {
   "cell_type": "code",
   "execution_count": 94,
   "metadata": {},
   "outputs": [
    {
     "name": "stdout",
     "output_type": "stream",
     "text": [
      "+--------------------+--------------------+\n",
      "|                data|                meta|\n",
      "+--------------------+--------------------+\n",
      "|[[Ike,,, 14, Anig...|[1, 2, 100, 3268,...|\n",
      "|[[Ike,,, 14, Anig...|[1, 2, 100, 3268,...|\n",
      "|[[Danny,,, 571, Y...|[2, 3, 100, 3268,...|\n",
      "|[[Larry,,, 671, J...|[3, 4, 100, 3268,...|\n",
      "|[[Alonzo,,, 771, ...|[4, 5, 100, 3268,...|\n",
      "|[[Skeeter,,, 871,...|[5, 6, 100, 3268,...|\n",
      "|[[Kevin,,, 971, G...|[6, 7, 100, 3268,...|\n",
      "|[[Jason,,, 1071, ...|[7, 8, 100, 3268,...|\n",
      "|[[Randell,,, 1171...|[8, 9, 100, 3268,...|\n",
      "|[[Derrick,,, 1271...|[9, 10, 100, 3268...|\n",
      "|[[Jason,,, 1372, ...|[10, 11, 100, 326...|\n",
      "|[[Luke,,, 1472, W...|[11, 12, 100, 326...|\n",
      "|[[Justin,,, 1572,...|[12, 13, 100, 326...|\n",
      "|[[Robert,,, 1673,...|[13, 14, 100, 326...|\n",
      "|[[Spencer,,, 1775...|[14, 15, 100, 326...|\n",
      "|[[Derrick,,, 1875...|[15, 16, 100, 326...|\n",
      "|[[Diamon,,, 1977,...|[16, 17, 100, 326...|\n",
      "|[[Cory,,, 2083, J...|[17, 18, 100, 326...|\n",
      "|[[Dakari,,, 2199,...|[18, 19, 100, 326...|\n",
      "|[[Lionel,,, 2311,...|[19, 20, 100, 326...|\n",
      "+--------------------+--------------------+\n",
      "only showing top 20 rows\n",
      "\n",
      "root\n",
      " |-- data: array (nullable = true)\n",
      " |    |-- element: struct (containsNull = true)\n",
      " |    |    |-- first_name: string (nullable = true)\n",
      " |    |    |-- height_feet: long (nullable = true)\n",
      " |    |    |-- height_inches: long (nullable = true)\n",
      " |    |    |-- id: long (nullable = true)\n",
      " |    |    |-- last_name: string (nullable = true)\n",
      " |    |    |-- position: string (nullable = true)\n",
      " |    |    |-- team: struct (nullable = true)\n",
      " |    |    |    |-- abbreviation: string (nullable = true)\n",
      " |    |    |    |-- city: string (nullable = true)\n",
      " |    |    |    |-- conference: string (nullable = true)\n",
      " |    |    |    |-- division: string (nullable = true)\n",
      " |    |    |    |-- full_name: string (nullable = true)\n",
      " |    |    |    |-- id: long (nullable = true)\n",
      " |    |    |    |-- name: string (nullable = true)\n",
      " |    |    |-- weight_pounds: long (nullable = true)\n",
      " |-- meta: struct (nullable = true)\n",
      " |    |-- current_page: long (nullable = true)\n",
      " |    |-- next_page: long (nullable = true)\n",
      " |    |-- per_page: long (nullable = true)\n",
      " |    |-- total_count: long (nullable = true)\n",
      " |    |-- total_pages: long (nullable = true)\n",
      "\n"
     ]
    },
    {
     "data": {
      "text/plain": [
       "df = [data: array<struct<first_name:string,height_feet:bigint,height_inches:bigint,id:bigint,last_name:string,position:string,team:struct<abbreviation:string,city:string,conference:string,division:string,full_name:string,id:bigint,name:string>,weight_pounds:bigint>>, meta: struct<current_page: bigint, next_page: bigint ... 3 more fields>]\n"
      ]
     },
     "metadata": {},
     "output_type": "display_data"
    },
    {
     "data": {
      "text/plain": [
       "[data: array<struct<first_name:string,height_feet:bigint,height_inches:bigint,id:bigint,last_name:string,position:string,team:struct<abbreviation:string,city:string,conference:string,division:string,full_name:string,id:bigint,name:string>,weight_pounds:bigint>>, meta: struct<current_page: bigint, next_page: bigint ... 3 more fields>]"
      ]
     },
     "execution_count": 94,
     "metadata": {},
     "output_type": "execute_result"
    }
   ],
   "source": [
    "val df = spark.read.json(\"data/players_data.json\")\n",
    "//Read the players JSON file\n",
    "df_players.show()\n",
    "df_players.printSchema()"
   ]
  },
  {
   "cell_type": "code",
   "execution_count": 95,
   "metadata": {},
   "outputs": [
    {
     "name": "stdout",
     "output_type": "stream",
     "text": [
      "+--------------------+\n",
      "|           data_flat|\n",
      "+--------------------+\n",
      "|[Ike,,, 14, Anigb...|\n",
      "|[Ron,,, 25, Baker...|\n",
      "|[Jabari,,, 47, Bi...|\n",
      "|[MarShon,,, 67, B...|\n",
      "|[Lorenzo,,, 71, B...|\n",
      "|[Omri,,, 90, Cass...|\n",
      "|[Alex, 6, 6, 1, A...|\n",
      "|[Tyler,,, 119, Da...|\n",
      "|[Keenan,,, 149, E...|\n",
      "|[Marcin,,, 179, G...|\n",
      "|[Andrew,,, 1593, ...|\n",
      "|[Amir, 6, 9, 241,...|\n",
      "|[George, 6, 6, 25...|\n",
      "|[Zach,,, 281, Lof...|\n",
      "|[Kosta, 7, 0, 263...|\n",
      "|[James,,, 348, Nu...|\n",
      "|[Billy,,, 382, Pr...|\n",
      "|[Zhou,,, 384, Qi,...|\n",
      "|[Zach,,, 388, Ran...|\n",
      "|[Malachi,,, 392, ...|\n",
      "+--------------------+\n",
      "only showing top 20 rows\n",
      "\n"
     ]
    },
    {
     "data": {
      "text/plain": [
       "elem = [data_flat: struct<first_name: string, height_feet: bigint ... 6 more fields>]\n"
      ]
     },
     "metadata": {},
     "output_type": "display_data"
    },
    {
     "data": {
      "text/plain": [
       "[data_flat: struct<first_name: string, height_feet: bigint ... 6 more fields>]"
      ]
     },
     "execution_count": 95,
     "metadata": {},
     "output_type": "execute_result"
    }
   ],
   "source": [
    "var elem = df.select(explode($\"data\").as(\"data_flat\"))\n",
    "elem.show()"
   ]
  },
  {
   "cell_type": "code",
   "execution_count": 98,
   "metadata": {},
   "outputs": [
    {
     "name": "stdout",
     "output_type": "stream",
     "text": [
      "+----+\n",
      "|  id|\n",
      "+----+\n",
      "|  14|\n",
      "|  25|\n",
      "|  47|\n",
      "|  67|\n",
      "|  71|\n",
      "|  90|\n",
      "|   1|\n",
      "| 119|\n",
      "| 149|\n",
      "| 179|\n",
      "|1593|\n",
      "| 241|\n",
      "| 256|\n",
      "| 281|\n",
      "| 263|\n",
      "| 348|\n",
      "| 382|\n",
      "| 384|\n",
      "| 388|\n",
      "| 392|\n",
      "+----+\n",
      "only showing top 20 rows\n",
      "\n"
     ]
    },
    {
     "data": {
      "text/plain": [
       "palyers_id = [id: bigint]\n"
      ]
     },
     "metadata": {},
     "output_type": "display_data"
    },
    {
     "data": {
      "text/plain": [
       "[id: bigint]"
      ]
     },
     "execution_count": 98,
     "metadata": {},
     "output_type": "execute_result"
    }
   ],
   "source": [
    "// Flattening\n",
    "\n",
    "var elem = df.select(explode($\"data\").as(\"data_flat\"))\n",
    "elem.show()\n",
    "val players_id = elem.select(\"data_flat.id\")\n",
    "players_id.show()"
   ]
  },
  {
   "cell_type": "code",
   "execution_count": 106,
   "metadata": {},
   "outputs": [
    {
     "name": "stdout",
     "output_type": "stream",
     "text": [
      "+----------+---------+\n",
      "|first_name|last_name|\n",
      "+----------+---------+\n",
      "|    LeBron|    James|\n",
      "+----------+---------+\n",
      "\n"
     ]
    }
   ],
   "source": [
    "elem.select(elem(\"data_flat.first_name\"), elem(\"data_flat.last_name\")).filter(elem(\"data_flat.id\")===237).show()\n"
   ]
  },
  {
   "cell_type": "code",
   "execution_count": 112,
   "metadata": {},
   "outputs": [
    {
     "name": "stdout",
     "output_type": "stream",
     "text": [
      "+---+\n",
      "| id|\n",
      "+---+\n",
      "|415|\n",
      "| 49|\n",
      "| 91|\n",
      "|210|\n",
      "|161|\n",
      "| 53|\n",
      "|157|\n",
      "| 24|\n",
      "|235|\n",
      "|174|\n",
      "|299|\n",
      "|309|\n",
      "|263|\n",
      "| 33|\n",
      "|482|\n",
      "| 48|\n",
      "|267|\n",
      "|465|\n",
      "|207|\n",
      "| 62|\n",
      "+---+\n",
      "only showing top 20 rows\n",
      "\n"
     ]
    },
    {
     "data": {
      "text/plain": [
       "flat_stats = [flat_stats: struct<ast: bigint, blk: bigint ... 21 more fields>]\n",
       "stats_season = [season: bigint]\n",
       "stats_player_id = [id: bigint]\n"
      ]
     },
     "metadata": {},
     "output_type": "display_data"
    },
    {
     "data": {
      "text/plain": [
       "[id: bigint]"
      ]
     },
     "execution_count": 112,
     "metadata": {},
     "output_type": "execute_result"
    }
   ],
   "source": [
    "var flat_stats = df_stats.select(explode($\"data\").as(\"flat_stats\"))\n",
    "val stats_season = flat_stats.select(\"flat_stats.game.season\")\n",
    "val stats_player_id = flat_stats.select(\"flat_stats.player.id\")\n",
    "stats_player_id.show()"
   ]
  },
  {
   "cell_type": "code",
   "execution_count": 118,
   "metadata": {},
   "outputs": [
    {
     "name": "stdout",
     "output_type": "stream",
     "text": [
      "root\n",
      " |-- flat_stats: struct (nullable = true)\n",
      " |    |-- ast: long (nullable = true)\n",
      " |    |-- blk: long (nullable = true)\n",
      " |    |-- dreb: long (nullable = true)\n",
      " |    |-- fg3_pct: double (nullable = true)\n",
      " |    |-- fg3a: long (nullable = true)\n",
      " |    |-- fg3m: long (nullable = true)\n",
      " |    |-- fg_pct: double (nullable = true)\n",
      " |    |-- fga: long (nullable = true)\n",
      " |    |-- fgm: long (nullable = true)\n",
      " |    |-- ft_pct: double (nullable = true)\n",
      " |    |-- fta: long (nullable = true)\n",
      " |    |-- ftm: long (nullable = true)\n",
      " |    |-- game: struct (nullable = true)\n",
      " |    |    |-- date: string (nullable = true)\n",
      " |    |    |-- home_team_id: long (nullable = true)\n",
      " |    |    |-- home_team_score: long (nullable = true)\n",
      " |    |    |-- id: long (nullable = true)\n",
      " |    |    |-- period: long (nullable = true)\n",
      " |    |    |-- postseason: boolean (nullable = true)\n",
      " |    |    |-- season: long (nullable = true)\n",
      " |    |    |-- status: string (nullable = true)\n",
      " |    |    |-- time: string (nullable = true)\n",
      " |    |    |-- visitor_team_id: long (nullable = true)\n",
      " |    |    |-- visitor_team_score: long (nullable = true)\n",
      " |    |-- id: long (nullable = true)\n",
      " |    |-- min: string (nullable = true)\n",
      " |    |-- oreb: long (nullable = true)\n",
      " |    |-- pf: long (nullable = true)\n",
      " |    |-- player: struct (nullable = true)\n",
      " |    |    |-- first_name: string (nullable = true)\n",
      " |    |    |-- height_feet: long (nullable = true)\n",
      " |    |    |-- height_inches: long (nullable = true)\n",
      " |    |    |-- id: long (nullable = true)\n",
      " |    |    |-- last_name: string (nullable = true)\n",
      " |    |    |-- position: string (nullable = true)\n",
      " |    |    |-- team_id: long (nullable = true)\n",
      " |    |    |-- weight_pounds: long (nullable = true)\n",
      " |    |-- pts: long (nullable = true)\n",
      " |    |-- reb: long (nullable = true)\n",
      " |    |-- stl: long (nullable = true)\n",
      " |    |-- team: struct (nullable = true)\n",
      " |    |    |-- abbreviation: string (nullable = true)\n",
      " |    |    |-- city: string (nullable = true)\n",
      " |    |    |-- conference: string (nullable = true)\n",
      " |    |    |-- division: string (nullable = true)\n",
      " |    |    |-- full_name: string (nullable = true)\n",
      " |    |    |-- id: long (nullable = true)\n",
      " |    |    |-- name: string (nullable = true)\n",
      " |    |-- turnover: long (nullable = true)\n",
      "\n"
     ]
    }
   ],
   "source": [
    "flat_stats.printSchema()"
   ]
  },
  {
   "cell_type": "code",
   "execution_count": 130,
   "metadata": {},
   "outputs": [
    {
     "ename": "java.lang.UnsupportedOperationException",
     "evalue": "No Encoder found for org.apache.spark.sql.Row\n- field (class: \"org.apache.spark.sql.Row\", name: \"_1\")\n- root class: \"scala.Tuple2\"",
     "output_type": "error",
     "traceback": [
      "java.lang.UnsupportedOperationException: No Encoder found for org.apache.spark.sql.Row",
      "- field (class: \"org.apache.spark.sql.Row\", name: \"_1\")",
      "- root class: \"scala.Tuple2\"",
      "  at org.apache.spark.sql.catalyst.ScalaReflection$$anonfun$org$apache$spark$sql$catalyst$ScalaReflection$$serializerFor$1.apply(ScalaReflection.scala:650)",
      "  at org.apache.spark.sql.catalyst.ScalaReflection$$anonfun$org$apache$spark$sql$catalyst$ScalaReflection$$serializerFor$1.apply(ScalaReflection.scala:452)",
      "  at scala.reflect.internal.tpe.TypeConstraints$UndoLog.undo(TypeConstraints.scala:56)",
      "  at org.apache.spark.sql.catalyst.ScalaReflection$class.cleanUpReflectionObjects(ScalaReflection.scala:906)",
      "  at org.apache.spark.sql.catalyst.ScalaReflection$.cleanUpReflectionObjects(ScalaReflection.scala:46)",
      "  at org.apache.spark.sql.catalyst.ScalaReflection$.org$apache$spark$sql$catalyst$ScalaReflection$$serializerFor(ScalaReflection.scala:452)",
      "  at org.apache.spark.sql.catalyst.ScalaReflection$$anonfun$org$apache$spark$sql$catalyst$ScalaReflection$$serializerFor$1$$anonfun$8.apply(ScalaReflection.scala:644)",
      "  at org.apache.spark.sql.catalyst.ScalaReflection$$anonfun$org$apache$spark$sql$catalyst$ScalaReflection$$serializerFor$1$$anonfun$8.apply(ScalaReflection.scala:632)",
      "  at scala.collection.TraversableLike$$anonfun$flatMap$1.apply(TraversableLike.scala:241)",
      "  at scala.collection.TraversableLike$$anonfun$flatMap$1.apply(TraversableLike.scala:241)",
      "  at scala.collection.immutable.List.foreach(List.scala:392)",
      "  at scala.collection.TraversableLike$class.flatMap(TraversableLike.scala:241)",
      "  at scala.collection.immutable.List.flatMap(List.scala:355)",
      "  at org.apache.spark.sql.catalyst.ScalaReflection$$anonfun$org$apache$spark$sql$catalyst$ScalaReflection$$serializerFor$1.apply(ScalaReflection.scala:632)",
      "  at org.apache.spark.sql.catalyst.ScalaReflection$$anonfun$org$apache$spark$sql$catalyst$ScalaReflection$$serializerFor$1.apply(ScalaReflection.scala:452)",
      "  at scala.reflect.internal.tpe.TypeConstraints$UndoLog.undo(TypeConstraints.scala:56)",
      "  at org.apache.spark.sql.catalyst.ScalaReflection$class.cleanUpReflectionObjects(ScalaReflection.scala:906)",
      "  at org.apache.spark.sql.catalyst.ScalaReflection$.cleanUpReflectionObjects(ScalaReflection.scala:46)",
      "  at org.apache.spark.sql.catalyst.ScalaReflection$.org$apache$spark$sql$catalyst$ScalaReflection$$serializerFor(ScalaReflection.scala:452)",
      "  at org.apache.spark.sql.catalyst.ScalaReflection$.serializerFor(ScalaReflection.scala:441)",
      "  at org.apache.spark.sql.catalyst.encoders.ExpressionEncoder$.apply(ExpressionEncoder.scala:71)",
      "  at org.apache.spark.sql.Encoders$.product(Encoders.scala:275)",
      "  at org.apache.spark.sql.LowPrioritySQLImplicits$class.newProductEncoder(SQLImplicits.scala:248)",
      "  at org.apache.spark.sql.SQLImplicits.newProductEncoder(SQLImplicits.scala:34)",
      "  ... 46 elided"
     ]
    }
   ],
   "source": [
    "val player_games = flat_stats.select($\"flat_stats.team.name\").filter($\"flat_stats.player.id\" === 237 && $\"flat_stats.game.season\" === 2018)\n",
    "val player_teams = player_games.map(x => (x, 1))\n",
    "print(\"pollas\")"
   ]
  },
  {
   "cell_type": "code",
   "execution_count": 12,
   "metadata": {},
   "outputs": [
    {
     "ename": "Compile Error",
     "evalue": "<console>:25: error: not found: value df_player\n       var test = df_player.select(df_player.data(\"first_name\")).filter(df_player.id === 4)\n                  ^\n<console>:25: error: not found: value df_player\n       var test = df_player.select(df_player.data(\"first_name\")).filter(df_player.id === 4)\n                                   ^\n<console>:25: error: not found: value df_player\n       var test = df_player.select(df_player.data(\"first_name\")).filter(df_player.id === 4)\n                                                                        ^\n",
     "output_type": "error",
     "traceback": []
    }
   ],
   "source": [
    "var test = df_player.select(df_player(\"data.first_name\")).filter(df_player.id === 4)\n",
    "test.show()\n",
    "\n",
    "//val pollingDF = df.select(df(\"precinct_name\"), precinctColumn, votesColumn).filter(precinctColumn.isNotNull)\n"
   ]
  },
  {
   "cell_type": "code",
   "execution_count": null,
   "metadata": {},
   "outputs": [],
   "source": [
    "val player_games = df_stats.filter($\"df_stats.player.id\" === 4 && $\"df_stats.game.season\" === 2017)"
   ]
  }
 ],
 "metadata": {
  "kernelspec": {
   "display_name": "Apache Toree - Scala",
   "language": "scala",
   "name": "apache_toree_scala"
  },
  "language_info": {
   "codemirror_mode": "text/x-scala",
   "file_extension": ".scala",
   "mimetype": "text/x-scala",
   "name": "scala",
   "pygments_lexer": "scala",
   "version": "2.11.12"
  }
 },
 "nbformat": 4,
 "nbformat_minor": 4
}
