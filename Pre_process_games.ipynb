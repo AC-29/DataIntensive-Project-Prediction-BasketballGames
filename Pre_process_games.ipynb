{
 "cells": [
  {
   "cell_type": "code",
   "execution_count": 1,
   "metadata": {},
   "outputs": [
    {
     "data": {
      "text/plain": [
       "spark = org.apache.spark.sql.SparkSession@337283cd\n"
      ]
     },
     "metadata": {},
     "output_type": "display_data"
    },
    {
     "data": {
      "text/plain": [
       "org.apache.spark.sql.SparkSession@337283cd"
      ]
     },
     "execution_count": 1,
     "metadata": {},
     "output_type": "execute_result"
    }
   ],
   "source": [
    "import org.apache.spark.sql.{DataFrame, Dataset, Row, SparkSession}\n",
    "import org.apache.spark.sql.functions._\n",
    "import org.apache.spark.sql.types._\n",
    "val spark = SparkSession.builder.master(\"local[*]\").appName(\"dataProcessing\").getOrCreate()\n",
    "import spark.implicits._"
   ]
  },
  {
   "cell_type": "code",
   "execution_count": 2,
   "metadata": {},
   "outputs": [
    {
     "name": "stdout",
     "output_type": "stream",
     "text": [
      "root\n",
      " |-- data: array (nullable = true)\n",
      " |    |-- element: struct (containsNull = true)\n",
      " |    |    |-- date: string (nullable = true)\n",
      " |    |    |-- home_team: struct (nullable = true)\n",
      " |    |    |    |-- abbreviation: string (nullable = true)\n",
      " |    |    |    |-- city: string (nullable = true)\n",
      " |    |    |    |-- conference: string (nullable = true)\n",
      " |    |    |    |-- division: string (nullable = true)\n",
      " |    |    |    |-- full_name: string (nullable = true)\n",
      " |    |    |    |-- id: long (nullable = true)\n",
      " |    |    |    |-- name: string (nullable = true)\n",
      " |    |    |-- home_team_score: long (nullable = true)\n",
      " |    |    |-- id: long (nullable = true)\n",
      " |    |    |-- period: long (nullable = true)\n",
      " |    |    |-- postseason: boolean (nullable = true)\n",
      " |    |    |-- season: long (nullable = true)\n",
      " |    |    |-- status: string (nullable = true)\n",
      " |    |    |-- time: string (nullable = true)\n",
      " |    |    |-- visitor_team: struct (nullable = true)\n",
      " |    |    |    |-- abbreviation: string (nullable = true)\n",
      " |    |    |    |-- city: string (nullable = true)\n",
      " |    |    |    |-- conference: string (nullable = true)\n",
      " |    |    |    |-- division: string (nullable = true)\n",
      " |    |    |    |-- full_name: string (nullable = true)\n",
      " |    |    |    |-- id: long (nullable = true)\n",
      " |    |    |    |-- name: string (nullable = true)\n",
      " |    |    |-- visitor_team_score: long (nullable = true)\n",
      " |-- meta: struct (nullable = true)\n",
      " |    |-- current_page: long (nullable = true)\n",
      " |    |-- next_page: long (nullable = true)\n",
      " |    |-- per_page: long (nullable = true)\n",
      " |    |-- total_count: long (nullable = true)\n",
      " |    |-- total_pages: long (nullable = true)\n",
      "\n"
     ]
    },
    {
     "data": {
      "text/plain": [
       "df_games = [data: array<struct<date:string,home_team:struct<abbreviation:string,city:string,conference:string,division:string,full_name:string,id:bigint,name:string>,home_team_score:bigint,id:bigint,period:bigint,postseason:boolean,season:bigint,status:string,time:string,visitor_team:struct<abbreviation:string,city:string,conference:string,division:string,full_name:string,id:bigint,name:string>,visitor_team_score:bigint>>, meta: struct<current_page: bigint, next_page: bigint ... 3 more fields>]\n"
      ]
     },
     "metadata": {},
     "output_type": "display_data"
    },
    {
     "data": {
      "text/plain": [
       "[data: array<struct<date:string,home_team:struct<abbreviation:string,city:string,conference:string,division:string,full_name:string,id:bigint,name:string>,home_team_score:bigint,id:bigint,period:bigint,postseason:boolean,season:bigint,status:string,time:string,visitor_team:struct<abbreviation:string,city:string,conference:string,division:string,full_name:string,id:bigint,name:string>,visitor_team_score:bigint>>, meta: struct<current_page: bigint, next_page: bigint ... 3 more fields>]"
      ]
     },
     "execution_count": 2,
     "metadata": {},
     "output_type": "execute_result"
    }
   ],
   "source": [
    "var df_games = spark.read.json(\"data/game_data.json\")\n",
    "df_games.printSchema()"
   ]
  },
  {
   "cell_type": "code",
   "execution_count": 3,
   "metadata": {},
   "outputs": [
    {
     "name": "stdout",
     "output_type": "stream",
     "text": [
      "root\n",
      " |-- data_flat: struct (nullable = true)\n",
      " |    |-- date: string (nullable = true)\n",
      " |    |-- home_team: struct (nullable = true)\n",
      " |    |    |-- abbreviation: string (nullable = true)\n",
      " |    |    |-- city: string (nullable = true)\n",
      " |    |    |-- conference: string (nullable = true)\n",
      " |    |    |-- division: string (nullable = true)\n",
      " |    |    |-- full_name: string (nullable = true)\n",
      " |    |    |-- id: long (nullable = true)\n",
      " |    |    |-- name: string (nullable = true)\n",
      " |    |-- home_team_score: long (nullable = true)\n",
      " |    |-- id: long (nullable = true)\n",
      " |    |-- period: long (nullable = true)\n",
      " |    |-- postseason: boolean (nullable = true)\n",
      " |    |-- season: long (nullable = true)\n",
      " |    |-- status: string (nullable = true)\n",
      " |    |-- time: string (nullable = true)\n",
      " |    |-- visitor_team: struct (nullable = true)\n",
      " |    |    |-- abbreviation: string (nullable = true)\n",
      " |    |    |-- city: string (nullable = true)\n",
      " |    |    |-- conference: string (nullable = true)\n",
      " |    |    |-- division: string (nullable = true)\n",
      " |    |    |-- full_name: string (nullable = true)\n",
      " |    |    |-- id: long (nullable = true)\n",
      " |    |    |-- name: string (nullable = true)\n",
      " |    |-- visitor_team_score: long (nullable = true)\n",
      "\n"
     ]
    },
    {
     "data": {
      "text/plain": [
       "df = [data_flat: struct<date: string, home_team: struct<abbreviation: string, city: string ... 5 more fields> ... 9 more fields>]\n"
      ]
     },
     "metadata": {},
     "output_type": "display_data"
    },
    {
     "data": {
      "text/plain": [
       "[data_flat: struct<date: string, home_team: struct<abbreviation: string, city: string ... 5 more fields> ... 9 more fields>]"
      ]
     },
     "execution_count": 3,
     "metadata": {},
     "output_type": "execute_result"
    }
   ],
   "source": [
    "var df = df_games.select(explode($\"data\").as(\"data_flat\"))\n",
    "df.printSchema()"
   ]
  },
  {
   "cell_type": "code",
   "execution_count": 4,
   "metadata": {},
   "outputs": [
    {
     "name": "stdout",
     "output_type": "stream",
     "text": [
      "File saved\n",
      "File saved\n",
      "File saved\n",
      "File saved\n",
      "File saved\n",
      "File saved\n",
      "File saved\n",
      "File saved\n",
      "File saved\n",
      "File saved\n",
      "File saved\n",
      "File saved\n",
      "File saved\n",
      "File saved\n",
      "File saved\n",
      "File saved\n",
      "File saved\n",
      "File saved\n",
      "File saved\n",
      "File saved\n",
      "File saved\n",
      "File saved\n",
      "File saved\n",
      "File saved\n",
      "File saved\n",
      "File saved\n",
      "File saved\n",
      "File saved\n",
      "File saved\n"
     ]
    },
    {
     "data": {
      "text/plain": [
       "season = Range(1990, 1991, 1992, 1993, 1994, 1995, 1996, 1997, 1998, 1999, 2000, 2001, 2002, 2003, 2004, 2005, 2006, 2007, 2008, 2009, 2010, 2011, 2012, 2013, 2014, 2015, 2016, 2017, 2018)\n",
       "path = /home/adrian/Desktop/DataIntensive-Project-Prediction-BasketballGames\n"
      ]
     },
     "metadata": {},
     "output_type": "display_data"
    },
    {
     "data": {
      "text/plain": [
       "/home/adrian/Desktop/DataIntensive-Project-Prediction-BasketballGames"
      ]
     },
     "execution_count": 4,
     "metadata": {},
     "output_type": "execute_result"
    }
   ],
   "source": [
    "import java.io.File\n",
    "import scala.io.Source\n",
    "val season = 1990 to 2018\n",
    "val path = System.getProperty(\"user.dir\")\n",
    "for (i <- season){\n",
    "var df_2 = df.select($\"data_flat\").filter($\"data_flat.season\" === i)\n",
    "    val games_processed = df_2.withColumn(\"row\", struct(col(\"data_flat.date\"), col(\"data_flat.home_team.id\").as(\"home_team_id\"),\n",
    "                                         col(\"data_flat.home_team_score\"), col(\"data_flat.season\"), col(\"data_flat.postseason\"), \n",
    "                                         col(\"data_flat.visitor_team.id\").as(\"visitor_team_id\"), col(\"data_flat.visitor_team_score\"))).agg(collect_list(col(\"row\")).as(\"data\"))\n",
    "    games_processed.write.mode(\"overwrite\").format(\"json\").save(path + \"/season_games/\" + i)\n",
    "    println(\"File saved\")\n",
    "}\n"
   ]
  },
  {
   "cell_type": "code",
   "execution_count": null,
   "metadata": {},
   "outputs": [],
   "source": []
  }
 ],
 "metadata": {
  "kernelspec": {
   "display_name": "Apache Toree - Scala",
   "language": "scala",
   "name": "apache_toree_scala"
  },
  "language_info": {
   "codemirror_mode": "text/x-scala",
   "file_extension": ".scala",
   "mimetype": "text/x-scala",
   "name": "scala",
   "pygments_lexer": "scala",
   "version": "2.11.12"
  }
 },
 "nbformat": 4,
 "nbformat_minor": 4
}
